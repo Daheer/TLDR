{
 "cells": [
  {
   "cell_type": "code",
   "execution_count": 1,
   "metadata": {},
   "outputs": [],
   "source": [
    "from box import ConfigBox"
   ]
  },
  {
   "cell_type": "code",
   "execution_count": 2,
   "metadata": {},
   "outputs": [],
   "source": [
    "from dataclasses import dataclass\n",
    "from pathlib import Path\n",
    "\n",
    "@dataclass(frozen=True)\n",
    "class DataIngestionConfig:\n",
    "  root_dir: Path\n",
    "  source_URL: str\n",
    "  local_data_file: Path\n",
    "  unzip_dir: Path"
   ]
  },
  {
   "cell_type": "code",
   "execution_count": 3,
   "metadata": {},
   "outputs": [
    {
     "name": "stdout",
     "output_type": "stream",
     "text": [
      "[Errno 2] No such file or directory: 'TLDR'\n",
      "/home/dahir/deedax/TLDR/research\n"
     ]
    }
   ],
   "source": [
    "%cd TLDR"
   ]
  },
  {
   "cell_type": "code",
   "execution_count": 5,
   "metadata": {},
   "outputs": [],
   "source": [
    "from TLDR.constants import *\n",
    "from TLDR.utils.common import read_yaml, create_directories"
   ]
  },
  {
   "cell_type": "code",
   "execution_count": 15,
   "metadata": {},
   "outputs": [],
   "source": [
    "class ConfigurationManager:\n",
    "  def __init__(self, config_filepath = CONFIG_FILE_PATH, params_filepath = PARAMS_FILE_PATH):\n",
    "    self.config = read_yaml(config_filepath)\n",
    "    self.params = read_yaml(params_filepath)\n",
    "    \n",
    "    create_directories([self.config.artifacts_root])\n",
    "\n",
    "  def get_data_ingestion_config(self) -> DataIngestionConfig:\n",
    "    config = self.config.data_ingestion\n",
    "    create_directories([config.root_dir])\n",
    "\n",
    "    data_ingestion_config = DataIngestionConfig(\n",
    "      root_dir = config.root_dir,\n",
    "      source_URL = config.source_URL,\n",
    "      local_data_file = config.local_dir_file,\n",
    "      unzip_dir = config.unzip_dir\n",
    "    )\n",
    "\n",
    "    return data_ingestion_config"
   ]
  },
  {
   "cell_type": "code",
   "execution_count": 16,
   "metadata": {},
   "outputs": [],
   "source": [
    "import os\n",
    "import urllib.request as request\n",
    "import zipfile\n",
    "from TLDR.logging import logger\n",
    "from TLDR.utils.common import get_size"
   ]
  },
  {
   "cell_type": "code",
   "execution_count": 17,
   "metadata": {},
   "outputs": [],
   "source": [
    "class DataIngestion:\n",
    "  def __init__(self, config: DataIngestionConfig):\n",
    "    self.config = config\n",
    "\n",
    "  def download_file(self):\n",
    "    if not os.path.exists(self.config.local_data_file):\n",
    "      filename, headers = request.urlretrieve(\n",
    "        url = self.config.source_URL,\n",
    "        filename = self.config.local_data_file\n",
    "      )\n",
    "      logger.info(f\"Downloaded {filename} with info \\n{headers}\")\n",
    "    else:\n",
    "      logger.info(f\"File already exists of size {get_size(Path(self.config.local_data_file))}\")\n",
    "\n",
    "  def extract_zip(self):\n",
    "    unzip_dir = self.config.unzip_dir\n",
    "    os.makedirs(unzip_dir, exist_ok=True)\n",
    "    with zipfile.ZipFile(self.config.local_data_file, 'r') as zip_ref:\n",
    "      zip_ref.extractall(unzip_dir)"
   ]
  },
  {
   "cell_type": "code",
   "execution_count": null,
   "metadata": {},
   "outputs": [],
   "source": []
  },
  {
   "cell_type": "code",
   "execution_count": null,
   "metadata": {},
   "outputs": [],
   "source": []
  },
  {
   "cell_type": "code",
   "execution_count": 19,
   "metadata": {},
   "outputs": [
    {
     "name": "stdout",
     "output_type": "stream",
     "text": [
      "[2023-10-17 20:48:48,805: INFO: common] yaml file: <_io.TextIOWrapper name='config/config.yaml' mode='r' encoding='UTF-8'> read successfully.]\n",
      "[2023-10-17 20:48:48,808: INFO: common] yaml file: <_io.TextIOWrapper name='params.yaml' mode='r' encoding='UTF-8'> read successfully.]\n",
      "[2023-10-17 20:48:48,810: INFO: common] Created directory: artifacts]\n",
      "[2023-10-17 20:48:48,813: INFO: common] Created directory: artifacts/data_ingestion]\n",
      "[2023-10-17 20:48:58,400: INFO: 1087526126] Downloaded artifacts/data_ingestion/data.zip with info \n",
      "Server: nginx/1.25.1\n",
      "Date: Tue, 17 Oct 2023 19:48:55 GMT\n",
      "Transfer-Encoding: chunked\n",
      "Connection: close\n",
      "\n",
      "]\n"
     ]
    }
   ],
   "source": [
    "try:\n",
    "  config_manager = ConfigutationManager()\n",
    "  data_ingestion_config = config_manager.get_data_ingestion_config()\n",
    "  data_ingestion = DataIngestion(config = data_ingestion_config)\n",
    "  data_ingestion.download_file()\n",
    "  data_ingestion.extract_zip()\n",
    "except Exception as e:\n",
    "  raise e"
   ]
  },
  {
   "cell_type": "code",
   "execution_count": 13,
   "metadata": {},
   "outputs": [],
   "source": [
    "os.chdir('..')"
   ]
  },
  {
   "cell_type": "code",
   "execution_count": null,
   "metadata": {},
   "outputs": [],
   "source": []
  }
 ],
 "metadata": {
  "kernelspec": {
   "display_name": "TLDR",
   "language": "python",
   "name": "python3"
  },
  "language_info": {
   "codemirror_mode": {
    "name": "ipython",
    "version": 3
   },
   "file_extension": ".py",
   "mimetype": "text/x-python",
   "name": "python",
   "nbconvert_exporter": "python",
   "pygments_lexer": "ipython3",
   "version": "3.10.12"
  }
 },
 "nbformat": 4,
 "nbformat_minor": 2
}
